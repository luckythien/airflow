{
 "cells": [
  {
   "cell_type": "code",
   "execution_count": 22,
   "metadata": {},
   "outputs": [
    {
     "name": "stdout",
     "output_type": "stream",
     "text": [
      "-Finish importing package\n"
     ]
    },
    {
     "name": "stderr",
     "output_type": "stream",
     "text": [
      "C:\\Users\\HUYNH VAN TAM THIEN\\AppData\\Local\\Temp\\ipykernel_3512\\934098070.py:16: DeprecationWarning: executable_path has been deprecated, please pass in a Service object\n",
      "  driver = webdriver.Chrome(executable_path=r\"C:\\selenium\\chromedriver\")\n"
     ]
    },
    {
     "name": "stdout",
     "output_type": "stream",
     "text": [
      "Finish enter username\n",
      "Finish enter password\n",
      "Finish login Linked in\n",
      "Finsish searching\n",
      "This bot is scrapping profile in page  1\n",
      "https://www.linkedin.com/in/nam-bui-cong-nguyen-37813a141?miniProfileUrn=urn%3Ali%3Afs_miniProfile%3AACoAACJelIwBoS88ejYSPS2wz4SoDm5vtDqW3sw\n",
      "https://www.linkedin.com/in/quoc-vinh-ta06?miniProfileUrn=urn%3Ali%3Afs_miniProfile%3AACoAADOHU4ABNOMZ8YFea5hoclXqEyvE_DNejLE\n",
      "https://www.linkedin.com/in/ledinhtrung2806?miniProfileUrn=urn%3Ali%3Afs_miniProfile%3AACoAAC2xQywBO-RP5osTMfQLGT_Z2rf4qydA6yg\n",
      "https://www.linkedin.com/in/khangld99?miniProfileUrn=urn%3Ali%3Afs_miniProfile%3AACoAADP6xdsBBDBWcSel3XlsW1obVIRzQatmuZI\n",
      "https://www.linkedin.com/in/ho%C3%A0ng-nguy%E1%BB%85n-999149143?miniProfileUrn=urn%3Ali%3Afs_miniProfile%3AACoAACK6AkUBgXxj8I33ioTEbPFyn_KrVu8Bevo\n",
      "https://www.linkedin.com/in/mai-huy-8a659a20a?miniProfileUrn=urn%3Ali%3Afs_miniProfile%3AACoAADUfvX4BVNErptJMEP47HpB4lqVjePnmggs\n",
      "https://www.linkedin.com/in/nguy%E1%BB%85n-ti%E1%BA%BFn-88ba91152?miniProfileUrn=urn%3Ali%3Afs_miniProfile%3AACoAACTSvKsB9DJ4hik-rG4gX3bYCkqDh3tnap0\n",
      "https://www.linkedin.com/in/quoc-hiep-dao-2b01a9143?miniProfileUrn=urn%3Ali%3Afs_miniProfile%3AACoAACK75GQBeAXBVNoA8O_q5Ze7FzjGUh32VSY\n",
      "https://www.linkedin.com/in/tran-thien-thu-uyen-905b03140?miniProfileUrn=urn%3Ali%3Afs_miniProfile%3AACoAACJV3VUBFkjUoRa_nAi0bl_iIzX3F3SWxnI\n",
      "https://www.linkedin.com/in/tuankietle156?miniProfileUrn=urn%3Ali%3Afs_miniProfile%3AACoAACid8ZMB85MYN8RUYxr1zl5_tvsR2sC5Xiw\n",
      "This bot is scrapping profile in page  2\n",
      "https://www.linkedin.com/in/trongdinh?miniProfileUrn=urn%3Ali%3Afs_miniProfile%3AACoAACJ0zSMBZaGu-h-rkPtjk3Zr7Y7K8HcM5zU\n",
      "https://www.linkedin.com/in/thanhmv9?miniProfileUrn=urn%3Ali%3Afs_miniProfile%3AACoAADTD2R8BwBuYj_IATUQburqT7CR5yO_iAVQ\n",
      "https://www.linkedin.com/in/kieuvinhh?miniProfileUrn=urn%3Ali%3Afs_miniProfile%3AACoAADPfDzYBWwYaJ6C-tAP1D_0fAZbJYwyinUI\n",
      "https://www.linkedin.com/in/pham-hoang-nhat-thong-621a69225?miniProfileUrn=urn%3Ali%3Afs_miniProfile%3AACoAADiTbjkBkabqY6hGsbdTdXVl7L_AqzB-f5k\n",
      "https://www.linkedin.com/in/lightle?miniProfileUrn=urn%3Ali%3Afs_miniProfile%3AACoAAA4dZRcBJmVdEqAeiNArRmGWLesLJR9WNU4\n",
      "https://www.linkedin.com/in/nguyen-hoang-quoc-anh-0a8499201?miniProfileUrn=urn%3Ali%3Afs_miniProfile%3AACoAADOB1kABbPUfy-vNfO8zp2YmziDmSuyxYRw\n",
      "https://www.linkedin.com/in/huy-nguyen-a28b12187?miniProfileUrn=urn%3Ali%3Afs_miniProfile%3AACoAACwgGEABTCvwbkSmz9Sk2tjzJNbvOcv2Lq8\n",
      "https://www.linkedin.com/in/phuongnguyen-ng99?miniProfileUrn=urn%3Ali%3Afs_miniProfile%3AACoAADlsHEcBaixCiGLI6eTVEbSSONjkwqNz534\n",
      "https://www.linkedin.com/in/loc-trang-thanh-633b2098?miniProfileUrn=urn%3Ali%3Afs_miniProfile%3AACoAABTPqYcBC4KXH2UFdHhToBp34XvKfb-FD1s\n",
      "https://www.linkedin.com/in/nhonnguyen1908?miniProfileUrn=urn%3Ali%3Afs_miniProfile%3AACoAADUJh6IBIOdrc0-_POulyEp7b1iB-fHH68g\n",
      "This bot is scrapping profile in page  3\n",
      "https://www.linkedin.com/in/c%C6%B0%E1%BB%9Dng-ng%C3%B4-733589207?miniProfileUrn=urn%3Ali%3Afs_miniProfile%3AACoAADSWtNcBTn-IOkg9MfxUg4hUFpfXqiBApyI\n",
      "https://www.linkedin.com/in/tienththtran?miniProfileUrn=urn%3Ali%3Afs_miniProfile%3AACoAADNFKKMBrOVuv7nZdkEJ4gcgj9UOgTm0P-A\n",
      "https://www.linkedin.com/in/quocde99?miniProfileUrn=urn%3Ali%3Afs_miniProfile%3AACoAACvz-e0BeKxVP2S_UbkH9IEYGGd6kpJDl7w\n",
      "https://www.linkedin.com/in/vuthanhhai2302?miniProfileUrn=urn%3Ali%3Afs_miniProfile%3AACoAACRuMTgB7SuvtOHd5g_8-1g0s_7M9TCo5is\n",
      "https://www.linkedin.com/in/xuan-hoang-bo-b58674208?miniProfileUrn=urn%3Ali%3Afs_miniProfile%3AACoAADTHoHQBmroJow9Y9gjOov_cYVu-uZZl1ng\n",
      "https://www.linkedin.com/in/dinh-nguyen-398529115?miniProfileUrn=urn%3Ali%3Afs_miniProfile%3AACoAABy7bOQBXdH6TJWA_q3v088LOnXmIvcXZmg\n",
      "https://www.linkedin.com/in/daothanhthien0202?miniProfileUrn=urn%3Ali%3Afs_miniProfile%3AACoAADX8VloBImWL-CCaVsCi13vwndD5iDvb10E\n",
      "https://www.linkedin.com/in/dang-tran-trieu-8471b0b1?miniProfileUrn=urn%3Ali%3Afs_miniProfile%3AACoAABezG7cBA3dDI-8xozGcbv3XGlTvkd1J_jE\n",
      "https://www.linkedin.com/in/haihoang24?miniProfileUrn=urn%3Ali%3Afs_miniProfile%3AACoAADKuxR8By5hsQksSFbcUzwc_qPVjr1Zem9Y\n",
      "https://www.linkedin.com/in/nhut-le-340609153?miniProfileUrn=urn%3Ali%3Afs_miniProfile%3AACoAACTudqABvhlk44WfgGmEUMDJdKEoh4aZavM\n",
      "This bot is scrapping profile in page  4\n",
      "https://www.linkedin.com/in/quang-th%C3%A1i-240000b8?miniProfileUrn=urn%3Ali%3Afs_miniProfile%3AACoAABjqwVAB05ipwyxuE4IV06BTY-XUD-Xt8YA\n",
      "https://www.linkedin.com/in/khoa-l%C3%AA-b8616b158?miniProfileUrn=urn%3Ali%3Afs_miniProfile%3AACoAACXBQtYBYDNnbMnfTgfxcEIFO4pm6VydG8w\n",
      "https://www.linkedin.com/in/cao-thanh-v%C4%83n-a63b0121a?miniProfileUrn=urn%3Ali%3Afs_miniProfile%3AACoAADdWMKsBTdcDL9fUzbfOmx08OP89hph2Zs4\n",
      "https://www.linkedin.com/in/mazino2d?miniProfileUrn=urn%3Ali%3Afs_miniProfile%3AACoAACkwGoUBdjwU0uG-w6V6bQh-2jNoNc3xqIo\n",
      "https://www.linkedin.com/in/phong-thai-a0b04a1b4?miniProfileUrn=urn%3Ali%3Afs_miniProfile%3AACoAADHXDSsBpnZjN1Ofu0afja1lQSz5UDC6y4w\n",
      "https://www.linkedin.com/in/bindhu-m-444861136?miniProfileUrn=urn%3Ali%3Afs_miniProfile%3AACoAACE67zQBcr-IeJhKsgYw0Hrhs0kmt9h0ZTI\n",
      "https://www.linkedin.com/in/ph%E1%BA%A1m-duy-0282131b4?miniProfileUrn=urn%3Ali%3Afs_miniProfile%3AACoAADHdfWABGIVIFGBauCO-y0kiXs6VQK3qA64\n",
      "https://www.linkedin.com/in/tuantong?miniProfileUrn=urn%3Ali%3Afs_miniProfile%3AACoAADR8ExsBBhtIPi3y7f4ntoDo6UkzEXX2-Po\n",
      "https://www.linkedin.com/in/nthao136?miniProfileUrn=urn%3Ali%3Afs_miniProfile%3AACoAACUJ0CoBwyzEIP0S2RwQ168nAFhY94IHzug\n",
      "https://www.linkedin.com/in/l%E1%BB%A3i-nguy%E1%BB%85n-323080190?miniProfileUrn=urn%3Ali%3Afs_miniProfile%3AACoAACzcScsBdibNygK_4pm52naV8SSQnwCqCMo\n",
      "This bot is scrapping profile in page  5\n",
      "https://www.linkedin.com/in/tran-hoan-nguyen?miniProfileUrn=urn%3Ali%3Afs_miniProfile%3AACoAAB94PRsBMkG_iTqg1gHm-D6pp7dnymW7vr0\n",
      "https://www.linkedin.com/in/lequangthong?miniProfileUrn=urn%3Ali%3Afs_miniProfile%3AACoAADn_mMQBKhGoQtula8yndjCZ7fRoxsKj6XY\n",
      "https://www.linkedin.com/in/mai-h-738b7b125?miniProfileUrn=urn%3Ali%3Afs_miniProfile%3AACoAAB72mVwBCWId-YBeTRATsdUpyi3jtO6GMT8\n",
      "https://www.linkedin.com/in/quan-nguyen-785a34150?miniProfileUrn=urn%3Ali%3Afs_miniProfile%3AACoAACR1ylUBAQvQy_ayUFWu0IzINiLz9pdT4tc\n",
      "https://www.linkedin.com/in/tu-tran-dang-anh-02567b141?miniProfileUrn=urn%3Ali%3Afs_miniProfile%3AACoAACJy2V0Bvd1HM-WvrkTpZYDg3GTmgPFJS_Y\n",
      "https://www.linkedin.com/in/hanguyen0126?miniProfileUrn=urn%3Ali%3Afs_miniProfile%3AACoAADO7troB1LflLsE4ExbtxjecmDLiuf0SLXI\n",
      "https://www.linkedin.com/in/tonnuquythiende?miniProfileUrn=urn%3Ali%3Afs_miniProfile%3AACoAABbdMUwBkIe65UHblgtUQBqp5lfSz6_PNQA\n",
      "https://www.linkedin.com/in/phanphunghao?miniProfileUrn=urn%3Ali%3Afs_miniProfile%3AACoAADscoyIBZgbQxC8EwmRy3bOSEWvgj46Wjqk\n",
      "https://www.linkedin.com/in/phuongha144?miniProfileUrn=urn%3Ali%3Afs_miniProfile%3AACoAACQWguUBeklMzwV34NNF4acyrwUc9qfgeX4\n",
      "https://www.linkedin.com/in/tedhbt?miniProfileUrn=urn%3Ali%3Afs_miniProfile%3AACoAACltlHIBiwooUTPz6gU67dHoT5j8krWWr9I\n",
      "This bot is scrapping profile in page  6\n",
      "https://www.linkedin.com/in/hienngt?miniProfileUrn=urn%3Ali%3Afs_miniProfile%3AACoAACRWOecB54Sg36MJGCquZIfW2EWGhfYxfIU\n",
      "https://www.linkedin.com/in/may-changing-812404165?miniProfileUrn=urn%3Ali%3Afs_miniProfile%3AACoAACdkn44BB3YYB5iYIwYpYEpZkoz_aAvxzW0\n",
      "https://www.linkedin.com/in/hoa-ph%E1%BA%A1m-2a7a741ba?miniProfileUrn=urn%3Ali%3Afs_miniProfile%3AACoAADMPK58BaqTVw8NuUIvIV5NIjOexhpIF2qY\n",
      "https://www.linkedin.com/in/vinhpham1712?miniProfileUrn=urn%3Ali%3Afs_miniProfile%3AACoAACafkkkBbm7KDiO-XvRJHYSsrEgoMVdDAxk\n",
      "https://www.linkedin.com/in/khoa-dang-anh-35024a1b1?miniProfileUrn=urn%3Ali%3Afs_miniProfile%3AACoAADFV8WwBfmDBAnFhMM2FITe1CqWzlYs_dHg\n",
      "https://www.linkedin.com/in/tranphuvinh?miniProfileUrn=urn%3Ali%3Afs_miniProfile%3AACoAAClaj-8BEGPHnXT3Y7tY57aOid42eqwVFvY\n",
      "https://www.linkedin.com/in/0798a811b?miniProfileUrn=urn%3Ali%3Afs_miniProfile%3AACoAAB3asF0B9wya8BeUgXxywLg4V56wlp53V9c\n",
      "https://www.linkedin.com/in/nhatminh-it?miniProfileUrn=urn%3Ali%3Afs_miniProfile%3AACoAADX5u8wBX2JBCk4B7znVBbqXKGadDJdckWE\n",
      "https://www.linkedin.com/in/trien-dangvan-1a94091b7?miniProfileUrn=urn%3Ali%3Afs_miniProfile%3AACoAADJtndEBnxx3WMblwOGRLmX0SWNxmG2af8w\n",
      "https://www.linkedin.com/in/nguy%C3%AAn-tr%C6%B0%C6%A1ng-0a84b8205?miniProfileUrn=urn%3Ali%3Afs_miniProfile%3AACoAADQ4sYABAH6eoB2E3t4kGdcVSQDXe1qlrnE\n",
      "This bot is scrapping profile in page  7\n",
      "https://www.linkedin.com/in/h%C6%B0ng-ph%C3%BAc-1157251b5?miniProfileUrn=urn%3Ali%3Afs_miniProfile%3AACoAADIeaGEBO48-hh6Ku1-XpXoP7t-iD4cOy8s\n",
      "https://www.linkedin.com/in/vcgbao?miniProfileUrn=urn%3Ali%3Afs_miniProfile%3AACoAACXnAUQBFtQEIIPXXVl8RBLXc6yGOUkLT2Q\n",
      "https://www.linkedin.com/in/nguyen-truong-7b5731151?miniProfileUrn=urn%3Ali%3Afs_miniProfile%3AACoAACSX4jkBe334fTSG0OU8tdgyWzkYaLVQu-o\n",
      "https://www.linkedin.com/in/ha-nguyen-hoang-duong-756b5a1b2?miniProfileUrn=urn%3Ali%3Afs_miniProfile%3AACoAADGmALIByS8EnXGKhL5j2pr-01y21khgIQY\n",
      "https://www.linkedin.com/in/ltnhung?miniProfileUrn=urn%3Ali%3Afs_miniProfile%3AACoAADIx1PkBJeGzK6BghfY89p1-79Fu3uFhYhA\n",
      "https://www.linkedin.com/in/nguyen-xuan-thang-0335b5213?miniProfileUrn=urn%3Ali%3Afs_miniProfile%3AACoAADYECOcBi8jIIC8ZyNgqfnAXPHa-j1MsxcY\n",
      "https://www.linkedin.com/in/ky-nguyen-hong-546342178?miniProfileUrn=urn%3Ali%3Afs_miniProfile%3AACoAACoNeIYBLZCbNtQpqTlpM-2VskwElNiffVc\n",
      "https://www.linkedin.com/in/kha-tran-uit?miniProfileUrn=urn%3Ali%3Afs_miniProfile%3AACoAAChGUOgBIkSnQbfm0VPxElFE9m4xuSo4xxg\n",
      "https://www.linkedin.com/in/tram-nguyen-16095616b?miniProfileUrn=urn%3Ali%3Afs_miniProfile%3AACoAACiKmlgBuTmW_JPe72zY4Gv_HQcdXsxqsBs\n",
      "https://www.linkedin.com/in/d%C5%A9ng-h%E1%BB%A9a-20512411b?miniProfileUrn=urn%3Ali%3Afs_miniProfile%3AACoAAB29eiUBpS2J2q-9UwjNUoI32-4ql7vKhD4\n",
      "This bot is scrapping profile in page  8\n",
      "https://www.linkedin.com/in/bao-nguyen-710405144?miniProfileUrn=urn%3Ali%3Afs_miniProfile%3AACoAACLxlbwB1qNgcGeLgZknBtG0SqhaB8BuYa4\n",
      "https://www.linkedin.com/in/hiimseeking?miniProfileUrn=urn%3Ali%3Afs_miniProfile%3AACoAAB1E8SEBb95W4iNQrl9gqnsHBQ5E_vcGZ7A\n",
      "https://www.linkedin.com/in/khang-nguyen-2332b543?miniProfileUrn=urn%3Ali%3Afs_miniProfile%3AACoAAAke5gcBCkBpBIHgNP5LmoGVxEVW9HbvEcM\n",
      "https://www.linkedin.com/in/th%C3%A1i-h%C3%B2a-nguy%E1%BB%85n-t%C4%83ng-4433241b9?miniProfileUrn=urn%3Ali%3Afs_miniProfile%3AACoAADLFc3MBs5N2OAO_AKS2YN6M6ggsswqZgYo\n",
      "https://www.linkedin.com/in/nqvuong1998?miniProfileUrn=urn%3Ali%3Afs_miniProfile%3AACoAADNu4gEB9m_ZWdUJ0wU8QuTaDowyb6jwr6k\n",
      "https://www.linkedin.com/in/tran-duy-anh-phan-9361b1104?miniProfileUrn=urn%3Ali%3Afs_miniProfile%3AACoAABpekvoBSu6SXo4wVs7p5cU0r-n12ODWkKU\n",
      "https://www.linkedin.com/in/huy-s%E1%BA%A7m-651437199?miniProfileUrn=urn%3Ali%3Afs_miniProfile%3AACoAAC6EJd0Bi5-QKJxp3Vj4urZyYsmGGd_W0bE\n",
      "https://www.linkedin.com/in/binhpq?miniProfileUrn=urn%3Ali%3Afs_miniProfile%3AACoAACLfCsgBGCLM08Wu-oXDcY9S2Qnm6IaVclg\n",
      "https://www.linkedin.com/in/sang-ph%E1%BA%A1m-40a7761b8?miniProfileUrn=urn%3Ali%3Afs_miniProfile%3AACoAADKotcoBByekIs4qPT-ZMw2B-pKxh8DjwWw\n",
      "https://www.linkedin.com/in/%C4%91%E1%BB%A9c-d%C3%A2n-430b181a1?miniProfileUrn=urn%3Ali%3Afs_miniProfile%3AACoAAC9UXWQBluQgYw6kUJPyvcAqW9y2mI0nPXI\n",
      "This bot is scrapping profile in page  9\n",
      "https://www.linkedin.com/in/chilton-nguyen-164537203?miniProfileUrn=urn%3Ali%3Afs_miniProfile%3AACoAADPezxwBK7AjNxMT-pivEietMh4OlxIbg3E\n",
      "https://www.linkedin.com/in/ductran150499?miniProfileUrn=urn%3Ali%3Afs_miniProfile%3AACoAAC7L_pcB9mb15ISQRgVcXkIu8oVKLXyTIPA\n",
      "https://www.linkedin.com/in/duy-le-nguyen-minh-293798218?miniProfileUrn=urn%3Ali%3Afs_miniProfile%3AACoAADbu5I8BAGXENbPiYcC95I0UmKTw7VAsGz8\n",
      "https://www.linkedin.com/in/anhxuanle?miniProfileUrn=urn%3Ali%3Afs_miniProfile%3AACoAACyEXYsBNQWyW0jkBiCFOJX1qpd2DsoeP1I\n",
      "https://www.linkedin.com/in/minh-t%C3%A2m-nguy%E1%BB%85n-18b091168?miniProfileUrn=urn%3Ali%3Afs_miniProfile%3AACoAACfg4LsBQFafOXAy9n99SNcmIOiUejNlkPA\n",
      "https://www.linkedin.com/in/dinhtuvo44?miniProfileUrn=urn%3Ali%3Afs_miniProfile%3AACoAADB5_2QBrKQTFi8L1t977tYwrInTRHTmKto\n",
      "https://www.linkedin.com/in/nhannguyen2895?miniProfileUrn=urn%3Ali%3Afs_miniProfile%3AACoAACOhfawBsT7v4zl_0rk5jYBI2kYy9VyGYAs\n",
      "https://www.linkedin.com/in/nguy%E1%BB%85n-th%E1%BA%BF-vinh-b44740195?miniProfileUrn=urn%3Ali%3Afs_miniProfile%3AACoAAC3ZbmQBz9MTDj0lQatX4mvKoUkbnu2XQ18\n",
      "https://www.linkedin.com/in/%C4%91%E1%BA%A1t-nguy%E1%BB%85n-9a7637209?miniProfileUrn=urn%3Ali%3Afs_miniProfile%3AACoAADTz_88BzWA2geVgj2tF-hCVxuTd-MCbHAE\n",
      "https://www.linkedin.com/in/tran-nguyen-2500a8100?miniProfileUrn=urn%3Ali%3Afs_miniProfile%3AACoAABmkYVwB1R5UXqqoMpiYfOnF8p9jeFZO01Q\n"
     ]
    },
    {
     "ename": "IndexError",
     "evalue": "list index out of range",
     "output_type": "error",
     "traceback": [
      "\u001b[1;31m---------------------------------------------------------------------------\u001b[0m",
      "\u001b[1;31mIndexError\u001b[0m                                Traceback (most recent call last)",
      "\u001b[1;32mc:\\Users\\HUYNH VAN TAM THIEN\\Desktop\\crawl linkedin data\\crawl.ipynb Cell 1\u001b[0m in \u001b[0;36m<cell line: 56>\u001b[1;34m()\u001b[0m\n\u001b[0;32m     <a href='vscode-notebook-cell:/c%3A/Users/HUYNH%20VAN%20TAM%20THIEN/Desktop/crawl%20linkedin%20data/crawl.ipynb#W0sZmlsZQ%3D%3D?line=61'>62</a>\u001b[0m pagesource \u001b[39m=\u001b[39m BeautifulSoup(driver\u001b[39m.\u001b[39mpage_source)\n\u001b[0;32m     <a href='vscode-notebook-cell:/c%3A/Users/HUYNH%20VAN%20TAM%20THIEN/Desktop/crawl%20linkedin%20data/crawl.ipynb#W0sZmlsZQ%3D%3D?line=62'>63</a>\u001b[0m \u001b[39mnext\u001b[39m \u001b[39m=\u001b[39m pagesource\u001b[39m.\u001b[39mfind_all(\u001b[39m'\u001b[39m\u001b[39mbutton\u001b[39m\u001b[39m'\u001b[39m,class_\u001b[39m=\u001b[39m\u001b[39m'\u001b[39m\u001b[39martdeco-pagination__button artdeco-pagination__button--next artdeco-button artdeco-button--muted artdeco-button--icon-right artdeco-button--1 artdeco-button--tertiary ember-view\u001b[39m\u001b[39m'\u001b[39m)   \n\u001b[1;32m---> <a href='vscode-notebook-cell:/c%3A/Users/HUYNH%20VAN%20TAM%20THIEN/Desktop/crawl%20linkedin%20data/crawl.ipynb#W0sZmlsZQ%3D%3D?line=63'>64</a>\u001b[0m next_id \u001b[39m=\u001b[39m \u001b[39mnext\u001b[39;49m[\u001b[39m0\u001b[39;49m]\u001b[39m.\u001b[39mget(\u001b[39m'\u001b[39m\u001b[39mid\u001b[39m\u001b[39m'\u001b[39m)\n\u001b[0;32m     <a href='vscode-notebook-cell:/c%3A/Users/HUYNH%20VAN%20TAM%20THIEN/Desktop/crawl%20linkedin%20data/crawl.ipynb#W0sZmlsZQ%3D%3D?line=64'>65</a>\u001b[0m click_nextpage \u001b[39m=\u001b[39m driver\u001b[39m.\u001b[39mfind_element(By\u001b[39m.\u001b[39mID,\u001b[39mstr\u001b[39m(next_id))\u001b[39m.\u001b[39mclick()\n\u001b[0;32m     <a href='vscode-notebook-cell:/c%3A/Users/HUYNH%20VAN%20TAM%20THIEN/Desktop/crawl%20linkedin%20data/crawl.ipynb#W0sZmlsZQ%3D%3D?line=65'>66</a>\u001b[0m sleep(\u001b[39m5\u001b[39m)\n",
      "\u001b[1;31mIndexError\u001b[0m: list index out of range"
     ]
    }
   ],
   "source": [
    "from bs4 import BeautifulSoup\n",
    "from selenium import webdriver\n",
    "from selenium.webdriver.common.keys import Keys\n",
    "from selenium.webdriver.common.by import By\n",
    "from bs4 import BeautifulSoup\n",
    "\n",
    "\n",
    "print('-Finish importing package')\n",
    "credetial = open('credential.txt')\n",
    "line = credetial.readlines()\n",
    "username = line[0]\n",
    "password = line[1]\n",
    "from time import sleep\n",
    "\n",
    "\n",
    "driver = webdriver.Chrome(executable_path=r\"C:\\selenium\\chromedriver\")\n",
    "url = 'https://www.linkedin.com/login'\n",
    "driver.get(url)\n",
    "sleep(2)\n",
    "email_field = driver.find_element(By.ID,'username')\n",
    "email_field.send_keys(username)\n",
    "sleep(3)\n",
    "print('Finish enter username')\n",
    "password_field = driver.find_element(By.NAME,'session_password')\n",
    "password_field.send_keys(password)\n",
    "sleep(3)\n",
    "print('Finish enter password')\n",
    "login_field = driver.find_element(By.XPATH,'//*[@id=\"organic-div\"]/form/div[3]')\n",
    "login_field.click()\n",
    "sleep(3)\n",
    "print('Finish login Linked in')\n",
    "search_query = input('What profile do you want to scrape')\n",
    "search_field = driver.find_element(By.XPATH,'//*[@id=\"global-nav-typeahead\"]/input')\n",
    "search_field.send_keys(search_query)\n",
    "search_field.send_keys(Keys.RETURN)\n",
    "print('Finsish searching')\n",
    "sleep(3)\n",
    "for i in range(5):\n",
    "   click_people = driver.find_element(By.XPATH,'//*[@id=\"search-reusables__filters-bar\"]/ul/li['+str(i+1) +']/button')\n",
    "   if str(click_people.text) == 'People':\n",
    "      click_people.click()\n",
    "      break\n",
    "sleep(1)\n",
    "profile_links = []\n",
    "def GetURL():\n",
    "   page_source = BeautifulSoup(driver.page_source)\n",
    "   ulTags = page_source.find_all(\"ul\",{'class':\"reusable-search__entity-result-list list-style-none\"})\n",
    "   for ulTag in ulTags:\n",
    "      liTags = ulTag.find_all('li',class_='reusable-search__result-container')\n",
    "      for liTag in liTags:\n",
    "         a = liTag.find('a',class_='app-aware-link')\n",
    "         profile_link = a.get('href')\n",
    "         profile_links.append(profile_link)\n",
    "         print(profile_link)\n",
    "pages = 10\n",
    "try :\n",
    "   for page in range(pages):\n",
    "      print(\"This bot is scrapping profile in page \",str(page+1))\n",
    "      url_onepage = GetURL()\n",
    "      sleep(3)\n",
    "      driver.execute_script(\"window.scrollTo(0, document.body.scrollHeight);\")  # Scroll to end page\n",
    "      sleep(5)    #waiting for scroll page\n",
    "      pagesource = BeautifulSoup(driver.page_source)\n",
    "      next = pagesource.find_all('button',class_='artdeco-pagination__button artdeco-pagination__button--next artdeco-button artdeco-button--muted artdeco-button--icon-right artdeco-button--1 artdeco-button--tertiary ember-view')   \n",
    "      next_id = next[0].get('id')\n",
    "      click_nextpage = driver.find_element(By.ID,str(next_id)).click()\n",
    "      sleep(5)\n",
    "except Exception as e:\n",
    "   print(str(e))  \n",
    "\n",
    "\n"
   ]
  },
  {
   "cell_type": "code",
   "execution_count": 28,
   "metadata": {},
   "outputs": [
    {
     "name": "stdout",
     "output_type": "stream",
     "text": [
      "<a aria-hidden=\"true\" class=\"app-aware-link scale-down\" data-test-app-aware-link=\"\" href=\"https://www.linkedin.com/in/nam-bui-cong-nguyen-37813a141?miniProfileUrn=urn%3Ali%3Afs_miniProfile%3AACoAACJelIwBoS88ejYSPS2wz4SoDm5vtDqW3sw\">\n",
      "<div class=\"ivm-image-view-model\">\n",
      "<div class=\"ivm-view-attr__img-wrapper ivm-view-attr__img-wrapper--use-img-tag display-flex\">\n",
      "<!-- -->\n",
      "<div class=\"presence-entity presence-entity--size-3\">\n",
      "<img alt=\"Nam Bui Cong Nguyen\" class=\"presence-entity__image ivm-view-attr__img--centered EntityPhoto-circle-3 EntityPhoto-circle-3 lazy-image ember-view\" id=\"ember1509\" loading=\"lazy\" src=\"https://media-exp1.licdn.com/dms/image/C5603AQE3WD3lOvoeXA/profile-displayphoto-shrink_100_100/0/1660210284355?e=1670457600&amp;v=beta&amp;t=Gz-12YN7lKrsITRfZN_Wb2UpeBPdRMgEBXozJpsj5nM\"/>\n",
      "<div class=\"presence-entity__indicator presence-entity__indicator--size-3 presence-indicator hidden presence-indicator--size-3\">\n",
      "<span class=\"visually-hidden\">\n",
      "      Status is offline\n",
      "      </span>\n",
      "</div>\n",
      "</div>\n",
      "</div>\n",
      "</div>\n",
      "</a>\n"
     ]
    }
   ],
   "source": [
    "page_source = BeautifulSoup(driver.page_source)\n",
    "ulTags = page_source.find_all(\"ul\",{'class':\"reusable-search__entity-result-list list-style-none\"})\n",
    "for ulTag in ulTags:\n",
    "   liTags = ulTag.find_all('li',class_='reusable-search__result-container')\n",
    "   for liTag in liTags:\n",
    "      a = liTag.find('a',class_='app-aware-link')\n",
    "      # profile_link = a.get('href')\n",
    "      # profile_links.append(profile_link)\n",
    "      # print(profile_link)\n",
    "      span_name = a.find('span')\n",
    "      print(a)\n",
    "      break\n"
   ]
  },
  {
   "cell_type": "code",
   "execution_count": 14,
   "metadata": {},
   "outputs": [],
   "source": [
    "for i in range(5):\n",
    "   click_people = driver.find_element(By.XPATH,'//*[@id=\"search-reusables__filters-bar\"]/ul/li['+str(i+1) +']/button')\n",
    "   if str(click_people.text) == 'People':\n",
    "      click_people.click()\n",
    "      break\n",
    "profile_links = []\n",
    "def GetURL():\n",
    "   page_source = BeautifulSoup(driver.page_source)\n",
    "   ulTags = page_source.find_all(\"ul\",{'class':\"reusable-search__entity-result-list list-style-none\"})\n",
    "   for ulTag in ulTags:\n",
    "      liTags = ulTag.find_all('li',class_='reusable-search__result-container')\n",
    "      for liTag in liTags:\n",
    "         a = liTag.find('a',class_='app-aware-link')\n",
    "         profile_link = a.get('href')\n",
    "         profile_links.append(profile_link)\n",
    "         print(profile_link)\n",
    "pages = 10\n",
    "for page in range(pages):\n",
    "   print(\"This bot is scrapping profile in page \",str(page+1))\n",
    "   url_onepage = GetURL()\n",
    "   sleep(3)\n",
    "   driver.execute_script(\"window.scrollTo(0, document.body.scrollHeight);\")  # Scroll to end page\n",
    "   sleep(5)    #waiting for scroll page\n",
    "   pagesource = BeautifulSoup(driver.page_source)\n",
    "   next = pagesource.find_all('button',class_='artdeco-pagination__button artdeco-pagination__button--next artdeco-button artdeco-button--muted artdeco-button--icon-right artdeco-button--1 artdeco-button--tertiary ember-view')   \n",
    "   next_id = next[0].get('id')\n",
    "   click_nextpage = driver.find_element(By.ID,str(next_id)).click()\n"
   ]
  },
  {
   "cell_type": "code",
   "execution_count": 17,
   "metadata": {},
   "outputs": [
    {
     "name": "stdout",
     "output_type": "stream",
     "text": [
      "This bot is scrapping profile in page  1\n",
      "https://www.linkedin.com/in/nam-bui-cong-nguyen-37813a141?miniProfileUrn=urn%3Ali%3Afs_miniProfile%3AACoAACJelIwBoS88ejYSPS2wz4SoDm5vtDqW3sw\n",
      "https://www.linkedin.com/in/quoc-vinh-ta06?miniProfileUrn=urn%3Ali%3Afs_miniProfile%3AACoAADOHU4ABNOMZ8YFea5hoclXqEyvE_DNejLE\n",
      "https://www.linkedin.com/in/ledinhtrung2806?miniProfileUrn=urn%3Ali%3Afs_miniProfile%3AACoAAC2xQywBO-RP5osTMfQLGT_Z2rf4qydA6yg\n",
      "https://www.linkedin.com/in/khangld99?miniProfileUrn=urn%3Ali%3Afs_miniProfile%3AACoAADP6xdsBBDBWcSel3XlsW1obVIRzQatmuZI\n",
      "https://www.linkedin.com/in/ho%C3%A0ng-nguy%E1%BB%85n-999149143?miniProfileUrn=urn%3Ali%3Afs_miniProfile%3AACoAACK6AkUBgXxj8I33ioTEbPFyn_KrVu8Bevo\n",
      "https://www.linkedin.com/in/mai-huy-8a659a20a?miniProfileUrn=urn%3Ali%3Afs_miniProfile%3AACoAADUfvX4BVNErptJMEP47HpB4lqVjePnmggs\n",
      "https://www.linkedin.com/in/nguy%E1%BB%85n-ti%E1%BA%BFn-88ba91152?miniProfileUrn=urn%3Ali%3Afs_miniProfile%3AACoAACTSvKsB9DJ4hik-rG4gX3bYCkqDh3tnap0\n",
      "https://www.linkedin.com/in/quoc-hiep-dao-2b01a9143?miniProfileUrn=urn%3Ali%3Afs_miniProfile%3AACoAACK75GQBeAXBVNoA8O_q5Ze7FzjGUh32VSY\n",
      "https://www.linkedin.com/in/tran-thien-thu-uyen-905b03140?miniProfileUrn=urn%3Ali%3Afs_miniProfile%3AACoAACJV3VUBFkjUoRa_nAi0bl_iIzX3F3SWxnI\n",
      "https://www.linkedin.com/in/tuankietle156?miniProfileUrn=urn%3Ali%3Afs_miniProfile%3AACoAACid8ZMB85MYN8RUYxr1zl5_tvsR2sC5Xiw\n",
      "This bot is scrapping profile in page  2\n",
      "https://www.linkedin.com/in/trongdinh?miniProfileUrn=urn%3Ali%3Afs_miniProfile%3AACoAACJ0zSMBZaGu-h-rkPtjk3Zr7Y7K8HcM5zU\n",
      "https://www.linkedin.com/in/thanhmv9?miniProfileUrn=urn%3Ali%3Afs_miniProfile%3AACoAADTD2R8BwBuYj_IATUQburqT7CR5yO_iAVQ\n",
      "https://www.linkedin.com/in/kieuvinhh?miniProfileUrn=urn%3Ali%3Afs_miniProfile%3AACoAADPfDzYBWwYaJ6C-tAP1D_0fAZbJYwyinUI\n",
      "https://www.linkedin.com/in/pham-hoang-nhat-thong-621a69225?miniProfileUrn=urn%3Ali%3Afs_miniProfile%3AACoAADiTbjkBkabqY6hGsbdTdXVl7L_AqzB-f5k\n",
      "https://www.linkedin.com/in/lightle?miniProfileUrn=urn%3Ali%3Afs_miniProfile%3AACoAAA4dZRcBJmVdEqAeiNArRmGWLesLJR9WNU4\n",
      "https://www.linkedin.com/in/nguyen-hoang-quoc-anh-0a8499201?miniProfileUrn=urn%3Ali%3Afs_miniProfile%3AACoAADOB1kABbPUfy-vNfO8zp2YmziDmSuyxYRw\n",
      "https://www.linkedin.com/in/huy-nguyen-a28b12187?miniProfileUrn=urn%3Ali%3Afs_miniProfile%3AACoAACwgGEABTCvwbkSmz9Sk2tjzJNbvOcv2Lq8\n",
      "https://www.linkedin.com/in/phuongnguyen-ng99?miniProfileUrn=urn%3Ali%3Afs_miniProfile%3AACoAADlsHEcBaixCiGLI6eTVEbSSONjkwqNz534\n",
      "https://www.linkedin.com/in/loc-trang-thanh-633b2098?miniProfileUrn=urn%3Ali%3Afs_miniProfile%3AACoAABTPqYcBC4KXH2UFdHhToBp34XvKfb-FD1s\n",
      "https://www.linkedin.com/in/nhonnguyen1908?miniProfileUrn=urn%3Ali%3Afs_miniProfile%3AACoAADUJh6IBIOdrc0-_POulyEp7b1iB-fHH68g\n",
      "This bot is scrapping profile in page  3\n",
      "https://www.linkedin.com/in/c%C6%B0%E1%BB%9Dng-ng%C3%B4-733589207?miniProfileUrn=urn%3Ali%3Afs_miniProfile%3AACoAADSWtNcBTn-IOkg9MfxUg4hUFpfXqiBApyI\n",
      "https://www.linkedin.com/in/tienththtran?miniProfileUrn=urn%3Ali%3Afs_miniProfile%3AACoAADNFKKMBrOVuv7nZdkEJ4gcgj9UOgTm0P-A\n",
      "https://www.linkedin.com/in/quocde99?miniProfileUrn=urn%3Ali%3Afs_miniProfile%3AACoAACvz-e0BeKxVP2S_UbkH9IEYGGd6kpJDl7w\n",
      "https://www.linkedin.com/in/vuthanhhai2302?miniProfileUrn=urn%3Ali%3Afs_miniProfile%3AACoAACRuMTgB7SuvtOHd5g_8-1g0s_7M9TCo5is\n",
      "https://www.linkedin.com/in/xuan-hoang-bo-b58674208?miniProfileUrn=urn%3Ali%3Afs_miniProfile%3AACoAADTHoHQBmroJow9Y9gjOov_cYVu-uZZl1ng\n",
      "https://www.linkedin.com/in/dinh-nguyen-398529115?miniProfileUrn=urn%3Ali%3Afs_miniProfile%3AACoAABy7bOQBXdH6TJWA_q3v088LOnXmIvcXZmg\n",
      "https://www.linkedin.com/in/daothanhthien0202?miniProfileUrn=urn%3Ali%3Afs_miniProfile%3AACoAADX8VloBImWL-CCaVsCi13vwndD5iDvb10E\n",
      "https://www.linkedin.com/in/dang-tran-trieu-8471b0b1?miniProfileUrn=urn%3Ali%3Afs_miniProfile%3AACoAABezG7cBA3dDI-8xozGcbv3XGlTvkd1J_jE\n",
      "https://www.linkedin.com/in/haihoang24?miniProfileUrn=urn%3Ali%3Afs_miniProfile%3AACoAADKuxR8By5hsQksSFbcUzwc_qPVjr1Zem9Y\n",
      "https://www.linkedin.com/in/nhut-le-340609153?miniProfileUrn=urn%3Ali%3Afs_miniProfile%3AACoAACTudqABvhlk44WfgGmEUMDJdKEoh4aZavM\n",
      "This bot is scrapping profile in page  4\n",
      "https://www.linkedin.com/in/quang-th%C3%A1i-240000b8?miniProfileUrn=urn%3Ali%3Afs_miniProfile%3AACoAABjqwVAB05ipwyxuE4IV06BTY-XUD-Xt8YA\n",
      "https://www.linkedin.com/in/khoa-l%C3%AA-b8616b158?miniProfileUrn=urn%3Ali%3Afs_miniProfile%3AACoAACXBQtYBYDNnbMnfTgfxcEIFO4pm6VydG8w\n",
      "https://www.linkedin.com/in/cao-thanh-v%C4%83n-a63b0121a?miniProfileUrn=urn%3Ali%3Afs_miniProfile%3AACoAADdWMKsBTdcDL9fUzbfOmx08OP89hph2Zs4\n",
      "https://www.linkedin.com/in/mazino2d?miniProfileUrn=urn%3Ali%3Afs_miniProfile%3AACoAACkwGoUBdjwU0uG-w6V6bQh-2jNoNc3xqIo\n",
      "https://www.linkedin.com/in/phong-thai-a0b04a1b4?miniProfileUrn=urn%3Ali%3Afs_miniProfile%3AACoAADHXDSsBpnZjN1Ofu0afja1lQSz5UDC6y4w\n",
      "https://www.linkedin.com/in/bindhu-m-444861136?miniProfileUrn=urn%3Ali%3Afs_miniProfile%3AACoAACE67zQBcr-IeJhKsgYw0Hrhs0kmt9h0ZTI\n",
      "https://www.linkedin.com/in/ph%E1%BA%A1m-duy-0282131b4?miniProfileUrn=urn%3Ali%3Afs_miniProfile%3AACoAADHdfWABGIVIFGBauCO-y0kiXs6VQK3qA64\n",
      "https://www.linkedin.com/in/tuantong?miniProfileUrn=urn%3Ali%3Afs_miniProfile%3AACoAADR8ExsBBhtIPi3y7f4ntoDo6UkzEXX2-Po\n",
      "https://www.linkedin.com/in/nthao136?miniProfileUrn=urn%3Ali%3Afs_miniProfile%3AACoAACUJ0CoBwyzEIP0S2RwQ168nAFhY94IHzug\n",
      "https://www.linkedin.com/in/l%E1%BB%A3i-nguy%E1%BB%85n-323080190?miniProfileUrn=urn%3Ali%3Afs_miniProfile%3AACoAACzcScsBdibNygK_4pm52naV8SSQnwCqCMo\n",
      "This bot is scrapping profile in page  5\n",
      "https://www.linkedin.com/in/tran-hoan-nguyen?miniProfileUrn=urn%3Ali%3Afs_miniProfile%3AACoAAB94PRsBMkG_iTqg1gHm-D6pp7dnymW7vr0\n",
      "https://www.linkedin.com/in/lequangthong?miniProfileUrn=urn%3Ali%3Afs_miniProfile%3AACoAADn_mMQBKhGoQtula8yndjCZ7fRoxsKj6XY\n",
      "https://www.linkedin.com/in/mai-h-738b7b125?miniProfileUrn=urn%3Ali%3Afs_miniProfile%3AACoAAB72mVwBCWId-YBeTRATsdUpyi3jtO6GMT8\n",
      "https://www.linkedin.com/in/quan-nguyen-785a34150?miniProfileUrn=urn%3Ali%3Afs_miniProfile%3AACoAACR1ylUBAQvQy_ayUFWu0IzINiLz9pdT4tc\n",
      "https://www.linkedin.com/in/tu-tran-dang-anh-02567b141?miniProfileUrn=urn%3Ali%3Afs_miniProfile%3AACoAACJy2V0Bvd1HM-WvrkTpZYDg3GTmgPFJS_Y\n",
      "https://www.linkedin.com/in/hanguyen0126?miniProfileUrn=urn%3Ali%3Afs_miniProfile%3AACoAADO7troB1LflLsE4ExbtxjecmDLiuf0SLXI\n",
      "https://www.linkedin.com/in/tonnuquythiende?miniProfileUrn=urn%3Ali%3Afs_miniProfile%3AACoAABbdMUwBkIe65UHblgtUQBqp5lfSz6_PNQA\n",
      "https://www.linkedin.com/in/phanphunghao?miniProfileUrn=urn%3Ali%3Afs_miniProfile%3AACoAADscoyIBZgbQxC8EwmRy3bOSEWvgj46Wjqk\n",
      "https://www.linkedin.com/in/phuongha144?miniProfileUrn=urn%3Ali%3Afs_miniProfile%3AACoAACQWguUBeklMzwV34NNF4acyrwUc9qfgeX4\n",
      "https://www.linkedin.com/in/tedhbt?miniProfileUrn=urn%3Ali%3Afs_miniProfile%3AACoAACltlHIBiwooUTPz6gU67dHoT5j8krWWr9I\n",
      "This bot is scrapping profile in page  6\n",
      "https://www.linkedin.com/in/hienngt?miniProfileUrn=urn%3Ali%3Afs_miniProfile%3AACoAACRWOecB54Sg36MJGCquZIfW2EWGhfYxfIU\n",
      "https://www.linkedin.com/in/may-changing-812404165?miniProfileUrn=urn%3Ali%3Afs_miniProfile%3AACoAACdkn44BB3YYB5iYIwYpYEpZkoz_aAvxzW0\n",
      "https://www.linkedin.com/in/hoa-ph%E1%BA%A1m-2a7a741ba?miniProfileUrn=urn%3Ali%3Afs_miniProfile%3AACoAADMPK58BaqTVw8NuUIvIV5NIjOexhpIF2qY\n",
      "https://www.linkedin.com/in/vinhpham1712?miniProfileUrn=urn%3Ali%3Afs_miniProfile%3AACoAACafkkkBbm7KDiO-XvRJHYSsrEgoMVdDAxk\n",
      "https://www.linkedin.com/in/khoa-dang-anh-35024a1b1?miniProfileUrn=urn%3Ali%3Afs_miniProfile%3AACoAADFV8WwBfmDBAnFhMM2FITe1CqWzlYs_dHg\n",
      "https://www.linkedin.com/in/tranphuvinh?miniProfileUrn=urn%3Ali%3Afs_miniProfile%3AACoAAClaj-8BEGPHnXT3Y7tY57aOid42eqwVFvY\n",
      "https://www.linkedin.com/in/0798a811b?miniProfileUrn=urn%3Ali%3Afs_miniProfile%3AACoAAB3asF0B9wya8BeUgXxywLg4V56wlp53V9c\n",
      "https://www.linkedin.com/in/nhatminh-it?miniProfileUrn=urn%3Ali%3Afs_miniProfile%3AACoAADX5u8wBX2JBCk4B7znVBbqXKGadDJdckWE\n",
      "https://www.linkedin.com/in/trien-dangvan-1a94091b7?miniProfileUrn=urn%3Ali%3Afs_miniProfile%3AACoAADJtndEBnxx3WMblwOGRLmX0SWNxmG2af8w\n",
      "https://www.linkedin.com/in/nguy%C3%AAn-tr%C6%B0%C6%A1ng-0a84b8205?miniProfileUrn=urn%3Ali%3Afs_miniProfile%3AACoAADQ4sYABAH6eoB2E3t4kGdcVSQDXe1qlrnE\n",
      "This bot is scrapping profile in page  7\n",
      "https://www.linkedin.com/in/h%C6%B0ng-ph%C3%BAc-1157251b5?miniProfileUrn=urn%3Ali%3Afs_miniProfile%3AACoAADIeaGEBO48-hh6Ku1-XpXoP7t-iD4cOy8s\n",
      "https://www.linkedin.com/in/vcgbao?miniProfileUrn=urn%3Ali%3Afs_miniProfile%3AACoAACXnAUQBFtQEIIPXXVl8RBLXc6yGOUkLT2Q\n",
      "https://www.linkedin.com/in/nguyen-truong-7b5731151?miniProfileUrn=urn%3Ali%3Afs_miniProfile%3AACoAACSX4jkBe334fTSG0OU8tdgyWzkYaLVQu-o\n",
      "https://www.linkedin.com/in/ha-nguyen-hoang-duong-756b5a1b2?miniProfileUrn=urn%3Ali%3Afs_miniProfile%3AACoAADGmALIByS8EnXGKhL5j2pr-01y21khgIQY\n",
      "https://www.linkedin.com/in/ltnhung?miniProfileUrn=urn%3Ali%3Afs_miniProfile%3AACoAADIx1PkBJeGzK6BghfY89p1-79Fu3uFhYhA\n",
      "https://www.linkedin.com/in/nguyen-xuan-thang-0335b5213?miniProfileUrn=urn%3Ali%3Afs_miniProfile%3AACoAADYECOcBi8jIIC8ZyNgqfnAXPHa-j1MsxcY\n",
      "https://www.linkedin.com/in/ky-nguyen-hong-546342178?miniProfileUrn=urn%3Ali%3Afs_miniProfile%3AACoAACoNeIYBLZCbNtQpqTlpM-2VskwElNiffVc\n",
      "https://www.linkedin.com/in/kha-tran-uit?miniProfileUrn=urn%3Ali%3Afs_miniProfile%3AACoAAChGUOgBIkSnQbfm0VPxElFE9m4xuSo4xxg\n",
      "https://www.linkedin.com/in/tram-nguyen-16095616b?miniProfileUrn=urn%3Ali%3Afs_miniProfile%3AACoAACiKmlgBuTmW_JPe72zY4Gv_HQcdXsxqsBs\n",
      "https://www.linkedin.com/in/d%C5%A9ng-h%E1%BB%A9a-20512411b?miniProfileUrn=urn%3Ali%3Afs_miniProfile%3AACoAAB29eiUBpS2J2q-9UwjNUoI32-4ql7vKhD4\n",
      "This bot is scrapping profile in page  8\n",
      "https://www.linkedin.com/in/bao-nguyen-710405144?miniProfileUrn=urn%3Ali%3Afs_miniProfile%3AACoAACLxlbwB1qNgcGeLgZknBtG0SqhaB8BuYa4\n",
      "https://www.linkedin.com/in/hiimseeking?miniProfileUrn=urn%3Ali%3Afs_miniProfile%3AACoAAB1E8SEBb95W4iNQrl9gqnsHBQ5E_vcGZ7A\n",
      "https://www.linkedin.com/in/khang-nguyen-2332b543?miniProfileUrn=urn%3Ali%3Afs_miniProfile%3AACoAAAke5gcBCkBpBIHgNP5LmoGVxEVW9HbvEcM\n",
      "https://www.linkedin.com/in/th%C3%A1i-h%C3%B2a-nguy%E1%BB%85n-t%C4%83ng-4433241b9?miniProfileUrn=urn%3Ali%3Afs_miniProfile%3AACoAADLFc3MBs5N2OAO_AKS2YN6M6ggsswqZgYo\n",
      "https://www.linkedin.com/in/nqvuong1998?miniProfileUrn=urn%3Ali%3Afs_miniProfile%3AACoAADNu4gEB9m_ZWdUJ0wU8QuTaDowyb6jwr6k\n",
      "https://www.linkedin.com/in/tran-duy-anh-phan-9361b1104?miniProfileUrn=urn%3Ali%3Afs_miniProfile%3AACoAABpekvoBSu6SXo4wVs7p5cU0r-n12ODWkKU\n",
      "https://www.linkedin.com/in/huy-s%E1%BA%A7m-651437199?miniProfileUrn=urn%3Ali%3Afs_miniProfile%3AACoAAC6EJd0Bi5-QKJxp3Vj4urZyYsmGGd_W0bE\n",
      "https://www.linkedin.com/in/binhpq?miniProfileUrn=urn%3Ali%3Afs_miniProfile%3AACoAACLfCsgBGCLM08Wu-oXDcY9S2Qnm6IaVclg\n",
      "https://www.linkedin.com/in/sang-ph%E1%BA%A1m-40a7761b8?miniProfileUrn=urn%3Ali%3Afs_miniProfile%3AACoAADKotcoBByekIs4qPT-ZMw2B-pKxh8DjwWw\n",
      "https://www.linkedin.com/in/%C4%91%E1%BB%A9c-d%C3%A2n-430b181a1?miniProfileUrn=urn%3Ali%3Afs_miniProfile%3AACoAAC9UXWQBluQgYw6kUJPyvcAqW9y2mI0nPXI\n",
      "This bot is scrapping profile in page  9\n",
      "https://www.linkedin.com/in/chilton-nguyen-164537203?miniProfileUrn=urn%3Ali%3Afs_miniProfile%3AACoAADPezxwBK7AjNxMT-pivEietMh4OlxIbg3E\n",
      "https://www.linkedin.com/in/ductran150499?miniProfileUrn=urn%3Ali%3Afs_miniProfile%3AACoAAC7L_pcB9mb15ISQRgVcXkIu8oVKLXyTIPA\n",
      "https://www.linkedin.com/in/duy-le-nguyen-minh-293798218?miniProfileUrn=urn%3Ali%3Afs_miniProfile%3AACoAADbu5I8BAGXENbPiYcC95I0UmKTw7VAsGz8\n",
      "https://www.linkedin.com/in/anhxuanle?miniProfileUrn=urn%3Ali%3Afs_miniProfile%3AACoAACyEXYsBNQWyW0jkBiCFOJX1qpd2DsoeP1I\n",
      "https://www.linkedin.com/in/minh-t%C3%A2m-nguy%E1%BB%85n-18b091168?miniProfileUrn=urn%3Ali%3Afs_miniProfile%3AACoAACfg4LsBQFafOXAy9n99SNcmIOiUejNlkPA\n",
      "https://www.linkedin.com/in/dinhtuvo44?miniProfileUrn=urn%3Ali%3Afs_miniProfile%3AACoAADB5_2QBrKQTFi8L1t977tYwrInTRHTmKto\n",
      "https://www.linkedin.com/in/nhannguyen2895?miniProfileUrn=urn%3Ali%3Afs_miniProfile%3AACoAACOhfawBsT7v4zl_0rk5jYBI2kYy9VyGYAs\n",
      "https://www.linkedin.com/in/nguy%E1%BB%85n-th%E1%BA%BF-vinh-b44740195?miniProfileUrn=urn%3Ali%3Afs_miniProfile%3AACoAAC3ZbmQBz9MTDj0lQatX4mvKoUkbnu2XQ18\n",
      "https://www.linkedin.com/in/%C4%91%E1%BA%A1t-nguy%E1%BB%85n-9a7637209?miniProfileUrn=urn%3Ali%3Afs_miniProfile%3AACoAADTz_88BzWA2geVgj2tF-hCVxuTd-MCbHAE\n",
      "https://www.linkedin.com/in/tran-nguyen-2500a8100?miniProfileUrn=urn%3Ali%3Afs_miniProfile%3AACoAABmkYVwB1R5UXqqoMpiYfOnF8p9jeFZO01Q\n",
      "This bot is scrapping profile in page  10\n",
      "https://www.linkedin.com/in/long-huynh-b49854160?miniProfileUrn=urn%3Ali%3Afs_miniProfile%3AACoAACaRlmkBSRfhYuWAT43zThbYX5ir6197Vz0\n",
      "https://www.linkedin.com/in/tuyen-tran-b1552b111?miniProfileUrn=urn%3Ali%3Afs_miniProfile%3AACoAABwFPoEBpDsAt7LTvPXUbUEumJvXAW-j_RE\n",
      "https://www.linkedin.com/in/nguy%E1%BB%85n-%C4%91%C3%ACnh-duy-a40657b4?miniProfileUrn=urn%3Ali%3Afs_miniProfile%3AACoAABhNEhABIj1zDiTY9vQb-JZBBs7bA5zSU_0\n",
      "https://www.linkedin.com/in/ha-nguyen-35129b169?miniProfileUrn=urn%3Ali%3Afs_miniProfile%3AACoAACgWTS0BnTyn_DLQhcN9QKEfy0PJmWRlBs0\n",
      "https://www.linkedin.com/in/t%C3%A2m-ph%E1%BA%A1m-962359a4?miniProfileUrn=urn%3Ali%3Afs_miniProfile%3AACoAABYe-xoBGntxzsu-id-fyS483NznaCjZ9vM\n",
      "https://www.linkedin.com/in/luan-tc?miniProfileUrn=urn%3Ali%3Afs_miniProfile%3AACoAADPKgrIBdGbxNh2ml7x9YnUJd9wyUyorrvU\n",
      "https://www.linkedin.com/in/tien-anh-nguyen-a3371016a?miniProfileUrn=urn%3Ali%3Afs_miniProfile%3AACoAAChUCscBe-Zk30nzuH3dfk4E5-1FvXSCxpE\n",
      "https://www.linkedin.com/in/quoc-nguyen-a6b632b8?miniProfileUrn=urn%3Ali%3Afs_miniProfile%3AACoAABkCjnMBm0oJab-b7-sZ3MYHMyUZoCkEucM\n",
      "https://www.linkedin.com/in/vuminhquan?miniProfileUrn=urn%3Ali%3Afs_miniProfile%3AACoAADAIW8IB-mUE5zMTBmgCIZyDCRW8Uzlr4RU\n",
      "https://www.linkedin.com/in/xuanhank?miniProfileUrn=urn%3Ali%3Afs_miniProfile%3AACoAACjk05UB-3Ni5lz6YPDLxpsr1ZFZYW7Q-cI\n"
     ]
    }
   ],
   "source": [
    "\n",
    "profile_links = []\n",
    "def GetURL():\n",
    "   page_source = BeautifulSoup(driver.page_source)\n",
    "   ulTags = page_source.find_all(\"ul\",{'class':\"reusable-search__entity-result-list list-style-none\"})\n",
    "   for ulTag in ulTags:\n",
    "      liTags = ulTag.find_all('li',class_='reusable-search__result-container')\n",
    "      for liTag in liTags:\n",
    "         a = liTag.find('a',class_='app-aware-link')\n",
    "         profile_link = a.get('href')\n",
    "         profile_links.append(profile_link)\n",
    "         print(profile_link)\n",
    "pages = 10\n",
    "for page in range(pages):\n",
    "   print(\"This bot is scrapping profile in page \",str(page+1))\n",
    "   url_onepage = GetURL()\n",
    "   sleep(3)\n",
    "   driver.execute_script(\"window.scrollTo(0, document.body.scrollHeight);\")  # Scroll to end page\n",
    "   sleep(5)    #waiting for scroll page\n",
    "   pagesource = BeautifulSoup(driver.page_source)\n",
    "   next = pagesource.find_all('button',class_='artdeco-pagination__button artdeco-pagination__button--next artdeco-button artdeco-button--muted artdeco-button--icon-right artdeco-button--1 artdeco-button--tertiary ember-view')   \n",
    "   next_id = next[0].get('id')\n",
    "   click_nextpage = driver.find_element(By.ID,str(next_id)).click()"
   ]
  },
  {
   "cell_type": "code",
   "execution_count": 19,
   "metadata": {},
   "outputs": [
    {
     "data": {
      "text/plain": [
       "100"
      ]
     },
     "execution_count": 19,
     "metadata": {},
     "output_type": "execute_result"
    }
   ],
   "source": [
    "len(profile_links)"
   ]
  },
  {
   "cell_type": "code",
   "execution_count": 2,
   "metadata": {},
   "outputs": [
    {
     "name": "stdout",
     "output_type": "stream",
     "text": [
      "This bot is scrapping profile in page  1\n"
     ]
    },
    {
     "ename": "NameError",
     "evalue": "name 'GetURL' is not defined",
     "output_type": "error",
     "traceback": [
      "\u001b[1;31m---------------------------------------------------------------------------\u001b[0m",
      "\u001b[1;31mNameError\u001b[0m                                 Traceback (most recent call last)",
      "\u001b[1;32mc:\\Users\\HUYNH VAN TAM THIEN\\Desktop\\crawl linkedin data\\crawl.ipynb Cell 3\u001b[0m in \u001b[0;36m<cell line: 2>\u001b[1;34m()\u001b[0m\n\u001b[0;32m      <a href='vscode-notebook-cell:/c%3A/Users/HUYNH%20VAN%20TAM%20THIEN/Desktop/crawl%20linkedin%20data/crawl.ipynb#W2sZmlsZQ%3D%3D?line=1'>2</a>\u001b[0m \u001b[39mfor\u001b[39;00m page \u001b[39min\u001b[39;00m \u001b[39mrange\u001b[39m(pages):\n\u001b[0;32m      <a href='vscode-notebook-cell:/c%3A/Users/HUYNH%20VAN%20TAM%20THIEN/Desktop/crawl%20linkedin%20data/crawl.ipynb#W2sZmlsZQ%3D%3D?line=2'>3</a>\u001b[0m    \u001b[39mprint\u001b[39m(\u001b[39m\"\u001b[39m\u001b[39mThis bot is scrapping profile in page \u001b[39m\u001b[39m\"\u001b[39m,\u001b[39mstr\u001b[39m(page\u001b[39m+\u001b[39m\u001b[39m1\u001b[39m))\n\u001b[1;32m----> <a href='vscode-notebook-cell:/c%3A/Users/HUYNH%20VAN%20TAM%20THIEN/Desktop/crawl%20linkedin%20data/crawl.ipynb#W2sZmlsZQ%3D%3D?line=3'>4</a>\u001b[0m    url_onepage \u001b[39m=\u001b[39m GetURL()\n\u001b[0;32m      <a href='vscode-notebook-cell:/c%3A/Users/HUYNH%20VAN%20TAM%20THIEN/Desktop/crawl%20linkedin%20data/crawl.ipynb#W2sZmlsZQ%3D%3D?line=4'>5</a>\u001b[0m    sleep(\u001b[39m3\u001b[39m)\n\u001b[0;32m      <a href='vscode-notebook-cell:/c%3A/Users/HUYNH%20VAN%20TAM%20THIEN/Desktop/crawl%20linkedin%20data/crawl.ipynb#W2sZmlsZQ%3D%3D?line=5'>6</a>\u001b[0m    driver\u001b[39m.\u001b[39mexecute_script(\u001b[39m\"\u001b[39m\u001b[39mwindow.scrollTo(0, document.body.scrollHeight);\u001b[39m\u001b[39m\"\u001b[39m)  \u001b[39m# Scroll to end page\u001b[39;00m\n",
      "\u001b[1;31mNameError\u001b[0m: name 'GetURL' is not defined"
     ]
    }
   ],
   "source": [
    "pages = 10\n",
    "for page in range(pages):\n",
    "   print(\"This bot is scrapping profile in page \",str(page+1))\n",
    "   url_onepage = GetURL()\n",
    "   sleep(3)\n",
    "   driver.execute_script(\"window.scrollTo(0, document.body.scrollHeight);\")  # Scroll to end page\n",
    "   sleep(5)    #waiting for scroll page\n",
    "   pagesource = BeautifulSoup(driver.page_source)\n",
    "   next = pagesource.find_all('button',class_='artdeco-pagination__button artdeco-pagination__button--next artdeco-button artdeco-button--muted artdeco-button--icon-right artdeco-button--1 artdeco-button--tertiary ember-view')   \n",
    "   next_id = next[0].get('id')\n",
    "   click_nextpage = driver.find_element(By.ID,str(next_id)).click()\n"
   ]
  },
  {
   "cell_type": "code",
   "execution_count": 133,
   "metadata": {},
   "outputs": [],
   "source": [
    "page_source = BeautifulSoup(driver.page_source)\n",
    "ulTags = page_source.find_all(\"ul\",{'class':\"reusable-search__entity-result-list list-style-none\"})\n"
   ]
  },
  {
   "cell_type": "code",
   "execution_count": 135,
   "metadata": {},
   "outputs": [
    {
     "name": "stdout",
     "output_type": "stream",
     "text": [
      "https://www.linkedin.com/in/tien-anh-nguyen-a3371016a?miniProfileUrn=urn%3Ali%3Afs_miniProfile%3AACoAAChUCscBe-Zk30nzuH3dfk4E5-1FvXSCxpE\n",
      "https://www.linkedin.com/in/nguyen-duc-toan-1bb70315b?miniProfileUrn=urn%3Ali%3Afs_miniProfile%3AACoAACZemV8B_4Uizywpg7iws-WNrwCg4sHWNes\n",
      "https://www.linkedin.com/in/tuyen-tran-b1552b111?miniProfileUrn=urn%3Ali%3Afs_miniProfile%3AACoAABwFPoEBpDsAt7LTvPXUbUEumJvXAW-j_RE\n",
      "https://www.linkedin.com/in/long-huynh-b49854160?miniProfileUrn=urn%3Ali%3Afs_miniProfile%3AACoAACaRlmkBSRfhYuWAT43zThbYX5ir6197Vz0\n",
      "https://www.linkedin.com/in/ha-nguyen-35129b169?miniProfileUrn=urn%3Ali%3Afs_miniProfile%3AACoAACgWTS0BnTyn_DLQhcN9QKEfy0PJmWRlBs0\n",
      "https://www.linkedin.com/in/quoc-nguyen-a6b632b8?miniProfileUrn=urn%3Ali%3Afs_miniProfile%3AACoAABkCjnMBm0oJab-b7-sZ3MYHMyUZoCkEucM\n",
      "https://www.linkedin.com/in/tung-son-886963a1?miniProfileUrn=urn%3Ali%3Afs_miniProfile%3AACoAABWtOyYBhxV1rDEZkk_5Ld-h98kR2Uwal6Q\n",
      "https://www.linkedin.com/in/luan-tc?miniProfileUrn=urn%3Ali%3Afs_miniProfile%3AACoAADPKgrIBdGbxNh2ml7x9YnUJd9wyUyorrvU\n",
      "https://www.linkedin.com/in/tu-phan-7869211a7?miniProfileUrn=urn%3Ali%3Afs_miniProfile%3AACoAADBeSRYBOIXrlfWoAdw12JTDGP4MsIPaXes\n",
      "https://www.linkedin.com/in/minh-t%C3%A2m-nguy%E1%BB%85n-18b091168?miniProfileUrn=urn%3Ali%3Afs_miniProfile%3AACoAACfg4LsBQFafOXAy9n99SNcmIOiUejNlkPA\n"
     ]
    }
   ],
   "source": [
    "for ulTag in ulTags:\n",
    "   liTags = ulTag.find_all('li',class_='reusable-search__result-container')\n",
    "   for liTag in liTags:\n",
    "      a = liTag.find('a',class_='app-aware-link')\n",
    "      profile_link = a.get('href')\n",
    "      profile_links.append(profile_link)\n",
    "      print(profile_link)\n"
   ]
  },
  {
   "cell_type": "code",
   "execution_count": 91,
   "metadata": {},
   "outputs": [],
   "source": [
    "next = page_source.find_all('button',class_='artdeco-pagination__button artdeco-pagination__button--next artdeco-button artdeco-button--muted artdeco-button--icon-right artdeco-button--1 artdeco-button--tertiary ember-view')   \n"
   ]
  },
  {
   "cell_type": "code",
   "execution_count": 88,
   "metadata": {},
   "outputs": [
    {
     "data": {
      "text/plain": [
       "[]"
      ]
     },
     "execution_count": 88,
     "metadata": {},
     "output_type": "execute_result"
    }
   ],
   "source": [
    "<button aria-label=\"Next\" id=\"ember450\" class=\"artdeco-pagination__button artdeco-pagination__button--next artdeco-button artdeco-button--muted artdeco-button--icon-right artdeco-button--1 artdeco-button--tertiary ember-view\" type=\"button\">  <li-icon aria-hidden=\"true\" type=\"chevron-right-icon\" class=\"artdeco-button__icon\" size=\"small\"><svg xmlns=\"http://www.w3.org/2000/svg\" viewBox=\"0 0 16 16\" class=\"mercado-match\" data-supported-dps=\"16x16\" fill=\"currentColor\" width=\"16\" height=\"16\" focusable=\"false\">\n",
    "  <path d=\"M5 15l4.61-7L5 1h2.39L12 8l-4.61 7z\"></path>\n",
    "</svg></li-icon>\n",
    "\n",
    "<span class=\"artdeco-button__text\">\n",
    "    Next\n",
    "</span></button>"
   ]
  },
  {
   "cell_type": "code",
   "execution_count": 74,
   "metadata": {},
   "outputs": [],
   "source": [
    "<button aria-label=\"Next\" id=\"ember547\" class=\"artdeco-pagination__button artdeco-pagination__button--next artdeco-button artdeco-button--muted artdeco-button--icon-right artdeco-button--1 artdeco-button--tertiary ember-view\" type=\"button\">  <li-icon aria-hidden=\"true\" type=\"chevron-right-icon\" class=\"artdeco-button__icon\" size=\"small\"><svg xmlns=\"http://www.w3.org/2000/svg\" viewBox=\"0 0 16 16\" class=\"mercado-match\" data-supported-dps=\"16x16\" fill=\"currentColor\" width=\"16\" height=\"16\" focusable=\"false\">\n",
    "  <path d=\"M5 15l4.61-7L5 1h2.39L12 8l-4.61 7z\"></path>\n",
    "</svg></li-icon>\n",
    "\n",
    "<span class=\"artdeco-button__text\">\n",
    "    Next\n",
    "</span></button>"
   ]
  },
  {
   "cell_type": "code",
   "execution_count": 92,
   "metadata": {},
   "outputs": [
    {
     "data": {
      "text/plain": [
       "[<button aria-label=\"Next\" class=\"artdeco-pagination__button artdeco-pagination__button--next artdeco-button artdeco-button--muted artdeco-button--icon-right artdeco-button--1 artdeco-button--tertiary ember-view\" id=\"ember450\" type=\"button\"> <li-icon aria-hidden=\"true\" class=\"artdeco-button__icon\" size=\"small\" type=\"chevron-right-icon\"><svg class=\"mercado-match\" data-supported-dps=\"16x16\" fill=\"currentColor\" focusable=\"false\" height=\"16\" viewbox=\"0 0 16 16\" width=\"16\" xmlns=\"http://www.w3.org/2000/svg\">\n",
       " <path d=\"M5 15l4.61-7L5 1h2.39L12 8l-4.61 7z\"></path>\n",
       " </svg></li-icon>\n",
       " <span class=\"artdeco-button__text\">\n",
       "     Next\n",
       " </span></button>]"
      ]
     },
     "execution_count": 92,
     "metadata": {},
     "output_type": "execute_result"
    }
   ],
   "source": [
    "artdeco-pagination__button artdeco-pagination__button--next artdeco-button artdeco-button--muted artdeco-button--icon-right artdeco-button--1 artdeco-button--tertiary ember-view\n",
    "artdeco-pagination__button artdeco-pagination__button--next artdeco-button artdeco-button--muted artdeco-button--icon-right artdeco-button--1 artdeco-button--tertiary ember-view"
   ]
  },
  {
   "cell_type": "code",
   "execution_count": 113,
   "metadata": {},
   "outputs": [],
   "source": [
    "driver.execute_script(\"window.scrollTo(0, document.body.scrollHeight);\")  # Scroll to end page\n",
    "sleep(2)    #waiting for scroll page\n",
    "page_source = BeautifulSoup(driver.page_source)\n",
    "next = page_source.find_all('button',class_='artdeco-pagination__button artdeco-pagination__button--next artdeco-button artdeco-button--muted artdeco-button--icon-right artdeco-button--1 artdeco-button--tertiary ember-view')   \n",
    "next_id = next[0].get('id')"
   ]
  },
  {
   "cell_type": "code",
   "execution_count": null,
   "metadata": {},
   "outputs": [],
   "source": []
  }
 ],
 "metadata": {
  "kernelspec": {
   "display_name": "Python 3.10.2 64-bit",
   "language": "python",
   "name": "python3"
  },
  "language_info": {
   "codemirror_mode": {
    "name": "ipython",
    "version": 3
   },
   "file_extension": ".py",
   "mimetype": "text/x-python",
   "name": "python",
   "nbconvert_exporter": "python",
   "pygments_lexer": "ipython3",
   "version": "3.10.2"
  },
  "orig_nbformat": 4,
  "vscode": {
   "interpreter": {
    "hash": "715b648292f5f9094d05fe74f75e0b1981794ad5a477188aa7a82754f784ee44"
   }
  }
 },
 "nbformat": 4,
 "nbformat_minor": 2
}
